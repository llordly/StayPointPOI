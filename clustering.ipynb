{
 "cells": [
  {
   "cell_type": "code",
   "execution_count": 16,
   "metadata": {},
   "outputs": [],
   "source": [
    "import skmob\n",
    "import pandas as pd\n",
    "import csv, os\n",
    "from skmob.preprocessing import detection, clustering\n",
    "\n",
    "# def get_week(device_id):\n",
    "#     stdf = skmob.TrajDataFrame.from_file('./staypoint/53/stay_points.csv', \n",
    "#         latitude='latitude', longitude='longitude', user_id='deviceid', datetime='arrive_time')\n",
    "\n",
    "#     stdf.rename(columns={'leaving_time': 'leaving_datetime'}, inplace=True)\n",
    "#     stdf['leaving_datetime'] = pd.to_datetime(stdf['leaving_datetime'])\n",
    "\n",
    "#     weeks = [g for n, g in stdf.set_index(\n",
    "#         'datetime').groupby(pd.Grouper(freq='W'))]\n",
    "\n",
    "#     return weeks\n",
    "\n",
    "device_id_list = []\n",
    "for it in os.scandir('./staypoint'):\n",
    "    if it.is_dir():\n",
    "        if it.name.isdigit():\n",
    "            device_id_list.append(it.name)\n",
    "device_id_list.sort()\n",
    "\n",
    "for device_id in device_id_list:\n",
    "    stdf = skmob.TrajDataFrame.from_file('./staypoint/'+ device_id +'/stay_points.csv',\n",
    "        latitude='latitude', longitude='longitude', user_id='deviceid', datetime='datetime')\n",
    "\n",
    "    stdf['leaving_datetime'] = pd.to_datetime(stdf['leaving_datetime'])\n",
    "\n",
    "    # m = stdf.plot_trajectory(max_users=1, start_end_markers=False)\n",
    "    # stdf.plot_stops(max_users=1, map_f=m)\n",
    "\n",
    "    cstdf = clustering.cluster(stdf, cluster_radius_km=0.2, min_samples=1)\n",
    "\n",
    "    stay_point_list = cstdf.values.tolist()\n",
    "    for stay_point in stay_point_list:\n",
    "        stay_point[3] = stay_point[3].strftime('%Y-%m-%d %H:%M:%S')\n",
    "        stay_point[4] = stay_point[4].strftime('%Y-%m-%d %H:%M:%S')\n",
    "        fields = ['deviceid', 'latitude', 'longitude','datetime', 'leaving_datetime', 'cluster']\n",
    "        path = \"./cluster/\"+device_id\n",
    "        if not os.path.isdir(path):\n",
    "            os.mkdir(path)\n",
    "        with open(\"./cluster/\"+device_id+'/clustering_result.csv', 'w', newline='') as f:\n",
    "            write = csv.writer(f)\n",
    "            write.writerow(fields)\n",
    "            write.writerows(stay_point_list)\n",
    "\n",
    "\n",
    "\n",
    "# print(cstdf.values.tolist())\n",
    "\n",
    "# f = open('test.txt', 'w')\n",
    "# stdf.rename(columns={'leaving_time': 'leaving_datetime'}, inplace=True)\n",
    "# stdf['leaving_datetime'] = pd.to_datetime(stdf['leaving_datetime'])\n",
    "\n",
    "# print(stdf.head())\n",
    "\n",
    "# map_f = stdf.plot_trajectory(max_points=1000, start_end_markers=False)\n",
    "# stdf.plot_stops(map_f=map_f)\n"
   ]
  }
 ],
 "metadata": {
  "kernelspec": {
   "display_name": "Python 3.10.6 64-bit",
   "language": "python",
   "name": "python3"
  },
  "language_info": {
   "codemirror_mode": {
    "name": "ipython",
    "version": 3
   },
   "file_extension": ".py",
   "mimetype": "text/x-python",
   "name": "python",
   "nbconvert_exporter": "python",
   "pygments_lexer": "ipython3",
   "version": "3.10.6"
  },
  "orig_nbformat": 4,
  "vscode": {
   "interpreter": {
    "hash": "b0fa6594d8f4cbf19f97940f81e996739fb7646882a419484c72d19e05852a7e"
   }
  }
 },
 "nbformat": 4,
 "nbformat_minor": 2
}
