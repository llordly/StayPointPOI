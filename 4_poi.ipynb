{
 "cells": [
  {
   "cell_type": "code",
   "execution_count": 1,
   "metadata": {},
   "outputs": [],
   "source": [
    "import skmob\n",
    "import pandas as pd\n",
    "import csv, os, sys, json\n",
    "import urllib.request\n",
    "from skmob.preprocessing import clustering\n",
    "from pandas import Series, DataFrame\n",
    "import math"
   ]
  },
  {
   "cell_type": "code",
   "execution_count": 3,
   "metadata": {},
   "outputs": [],
   "source": [
    "device_id_list = []\n",
    "for it in os.scandir('./staypoint'):\n",
    "    if it.is_dir():\n",
    "        if it.name.isdigit():\n",
    "            device_id_list.append(it.name)\n",
    "device_id_list.sort()"
   ]
  },
  {
   "cell_type": "code",
   "execution_count": 17,
   "metadata": {},
   "outputs": [],
   "source": [
    "notPoiList = ['공공,사회기관', '시설,건물', '주택']\n",
    "poidf = DataFrame()\n",
    "for device_id in device_id_list:\n",
    "    df = pd.read_csv('./cluster/'+device_id+'/category.csv')\n",
    "    \n",
    "    poiDict = dict()\n",
    "    poiList = list()\n",
    "    for idx in range(len(df)):\n",
    "        category = df.loc[idx]['category']\n",
    "        if category == 'none' or type(category) == float:\n",
    "            continue\n",
    "\n",
    "        category_list = category.split('>')\n",
    "\n",
    "        category1 = category_list[0]\n",
    "\n",
    "\n",
    "        if category1 not in notPoiList:\n",
    "            poiDict[category] = 1\n",
    "            poiList.append(category)\n",
    "            if len(poiList) >= 3:\n",
    "                break\n",
    "    path = \"./poi/\"+device_id\n",
    "    if not os.path.isdir(path):\n",
    "        os.mkdir(path)\n",
    "    \n",
    "    # print(f\"deviceid: {device_id}, poi: {poiList}\")\n",
    "    df = pd.DataFrame(poiList, columns=['poi'])\n",
    "    df['deviceid'] = device_id\n",
    "    df = df[['deviceid', 'poi']]\n",
    "    # print(df)\n",
    "    df.to_csv('./poi/' + device_id +  '/poi.csv', index=False)\n",
    "    poidf = pd.concat([poidf, df])\n",
    "# print(poidf)"
   ]
  }
 ],
 "metadata": {
  "kernelspec": {
   "display_name": "Python 3.7.11 ('skmob')",
   "language": "python",
   "name": "python3"
  },
  "language_info": {
   "codemirror_mode": {
    "name": "ipython",
    "version": 3
   },
   "file_extension": ".py",
   "mimetype": "text/x-python",
   "name": "python",
   "nbconvert_exporter": "python",
   "pygments_lexer": "ipython3",
   "version": "3.7.11"
  },
  "orig_nbformat": 4,
  "vscode": {
   "interpreter": {
    "hash": "0f4e55ebc5827dc1af76f512874349628886059400c2743f418f581f61113d99"
   }
  }
 },
 "nbformat": 4,
 "nbformat_minor": 2
}
