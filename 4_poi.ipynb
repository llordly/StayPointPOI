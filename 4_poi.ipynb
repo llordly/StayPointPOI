{
 "cells": [
  {
   "cell_type": "code",
   "execution_count": 1,
   "metadata": {},
   "outputs": [],
   "source": [
    "import skmob\n",
    "import pandas as pd\n",
    "import csv, os, sys, json\n",
    "import urllib.request\n",
    "from skmob.preprocessing import clustering\n",
    "from pandas import Series, DataFrame\n",
    "import math"
   ]
  },
  {
   "cell_type": "code",
   "execution_count": 2,
   "metadata": {},
   "outputs": [],
   "source": [
    "device_id_list = []\n",
    "for it in os.scandir('./staypoint'):\n",
    "    if it.is_dir():\n",
    "        if it.name.isdigit():\n",
    "            device_id_list.append(it.name)\n",
    "device_id_list.sort()"
   ]
  },
  {
   "cell_type": "code",
   "execution_count": 4,
   "metadata": {},
   "outputs": [],
   "source": [
    "notPoiList = ['공공,사회기관', '시설,건물', '주택']\n",
    "poidf = DataFrame()\n",
    "for device_id in device_id_list:\n",
    "    df = pd.read_csv('./cluster/'+device_id+'/category.csv')\n",
    "    \n",
    "    poiDict = dict()\n",
    "    poiList = list()\n",
    "    for idx in range(len(df)):\n",
    "        category = df.loc[idx]['category']\n",
    "        if category == 'none' or type(category) == float:\n",
    "            continue\n",
    "\n",
    "        category_list = category.split('>')\n",
    "\n",
    "        category1 = category_list[0]\n",
    "\n",
    "\n",
    "        if category1 not in notPoiList:\n",
    "            poiDict[category] = 1\n",
    "            poiList.append(category)\n",
    "            if len(poiList) >= 3:\n",
    "                break\n",
    "    path = \"./poi/\"+device_id\n",
    "    if not os.path.isdir(path):\n",
    "        os.mkdir(path)\n",
    "    \n",
    "    # print(f\"deviceid: {device_id}, poi: {poiList}\")\n",
    "    df = pd.DataFrame(poiList, columns=['poi'])\n",
    "    df['deviceid'] = device_id\n",
    "    df = df[['deviceid', 'poi']]\n",
    "    # print(df)\n",
    "    df.to_csv('./poi/' + device_id +  '/poi.csv', index=False)\n",
    "    poidf = pd.concat([poidf, df])\n",
    "# print(poidf)"
   ]
  },
  {
   "cell_type": "code",
   "execution_count": null,
   "metadata": {},
   "outputs": [],
   "source": [
    "poidf = pd.DataFrame()\n",
    "\n",
    "total_dict = dict()\n",
    "poiDict = dict()\n",
    "\n",
    "# notPoiList = ['공공,사회기관', '시설,건물', '주택']\n",
    "\n",
    "for device_id in device_id_list:\n",
    "    df = pd.read_csv('./cluster/'+device_id+'/category.csv')\n",
    "\n",
    "    inv_dict = dict()\n",
    "    for idx in range(len(df)):\n",
    "        cate = df.loc[idx]['category']\n",
    "        if cate == 'none' or type(cate) == float:\n",
    "            continue\n",
    "        # print(f\"category: {cate}, deviceid: {df.loc[idx]['deviceid']}\")\n",
    "        # if cate == 'none' or cate\n",
    "        # print()\n",
    "        # detail = cate.split('>')[1]\n",
    "        category_list = cate.split('>')\n",
    "\n",
    "        cate = category_list[0]\n",
    "\n",
    "        if cate not in total_dict:\n",
    "            total_dict[cate] = 1\n",
    "        else:\n",
    "            total_dict[cate] += 1\n",
    "\n",
    "\n",
    "sorted_dict = sorted(total_dict.items(),\n",
    "                     key=lambda item: item[1], reverse=True)\n",
    "poidf = pd.DataFrame(sorted_dict, columns=['poi', 'count'])\n",
    "poidf.to_csv('./poi.csv', index=False)\n"
   ]
  }
 ],
 "metadata": {
  "kernelspec": {
   "display_name": "Python 3.10.7 64-bit",
   "language": "python",
   "name": "python3"
  },
  "language_info": {
   "codemirror_mode": {
    "name": "ipython",
    "version": 3
   },
   "file_extension": ".py",
   "mimetype": "text/x-python",
   "name": "python",
   "nbconvert_exporter": "python",
   "pygments_lexer": "ipython3",
   "version": "3.10.7"
  },
  "orig_nbformat": 4,
  "vscode": {
   "interpreter": {
    "hash": "b0fa6594d8f4cbf19f97940f81e996739fb7646882a419484c72d19e05852a7e"
   }
  }
 },
 "nbformat": 4,
 "nbformat_minor": 2
}
